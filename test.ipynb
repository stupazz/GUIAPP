{
 "cells": [
  {
   "cell_type": "code",
   "execution_count": 2,
   "metadata": {},
   "outputs": [],
   "source": [
    "import gradio as gr\n",
    "import pandas as pd \n",
    "import numpy as pd\n",
    "import sqlite3\n"
   ]
  },
  {
   "cell_type": "code",
   "execution_count": 5,
   "metadata": {},
   "outputs": [],
   "source": [
    "def insert_data_to_sqlite(nome,cognome,eta):\n",
    "    conn= sqlite3.connect(\"test.db\")\n",
    "    c =conn.cursor()\n",
    "    c.execute(\"\"\"CREATE TABLEmy-table(id INTEGER,nome TEXT, cognome TEXT, eta INTEGER,PRIMAY KEY(id AUTOINCREMENT))\"\"\")\n",
    "    c.execute=(\"INSERT INTO my-table(nome,cognome,eta)VALUES(?,?,?))\",(nome,cognome,eta))\n",
    "    conn.commit()\n",
    "    conn.close()"
   ]
  }
 ],
 "metadata": {
  "kernelspec": {
   "display_name": "Python 3",
   "language": "python",
   "name": "python3"
  },
  "language_info": {
   "codemirror_mode": {
    "name": "ipython",
    "version": 3
   },
   "file_extension": ".py",
   "mimetype": "text/x-python",
   "name": "python",
   "nbconvert_exporter": "python",
   "pygments_lexer": "ipython3",
   "version": "3.10.10"
  }
 },
 "nbformat": 4,
 "nbformat_minor": 2
}
