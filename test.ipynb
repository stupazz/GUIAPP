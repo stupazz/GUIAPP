{
 "cells": [
  {
   "cell_type": "code",
   "execution_count": 7,
   "metadata": {},
   "outputs": [],
   "source": [
    "import gradio as gr\n",
    "import pandas as pd \n",
    "import numpy as np\n",
    "import sqlite3\n",
    "####"
   ]
  },
  {
   "cell_type": "code",
   "execution_count": 2,
   "metadata": {},
   "outputs": [],
   "source": [
    "conn= sqlite3.connect(\"test.db\")\n",
    "c =conn.cursor()\n",
    "c.execute('''CREATE TABLE my_table(id INTEGER,nome TEXT, cognome TEXT, eta INTEGER, PRIMARY KEY(id AUTOINCREMENT))''')\n",
    "c.execute(\"INSERT INTO my_table(nome,cognome,eta) VALUES (?,?,?)\",(\"Mario\",\"Rossi\",25))\n",
    "conn.commit()\n",
    "conn.close()"
   ]
  },
  {
   "cell_type": "code",
   "execution_count": 3,
   "metadata": {},
   "outputs": [],
   "source": [
    "def insert_data_to_sqlite(nome,cognome,eta):\n",
    "    conn= sqlite3.connect(\"test.db\")\n",
    "    c =conn.cursor()\n",
    "    c.execute(\"INSERT INTO my_table(nome,cognome,eta)VALUES(?,?,?)\",(nome,cognome,eta))\n",
    "    conn.commit()\n",
    "    conn.close()"
   ]
  },
  {
   "cell_type": "code",
   "execution_count": 4,
   "metadata": {},
   "outputs": [],
   "source": [
    "def visualizza_data():\n",
    "    conn = sqlite3.connect(\"test.db\")\n",
    "    df= pd.read_sql_query(\"SELECT*FROM my_table\",conn)\n",
    "    conn.close()\n",
    "    return df\n"
   ]
  },
  {
   "cell_type": "code",
   "execution_count": 5,
   "metadata": {},
   "outputs": [],
   "source": [
    "insert_interface= gr.Interface(fn=insert_data_to_sqlite,\n",
    "                                inputs=[\"text\",\"text\",\"number\"],\n",
    "                                outputs=None,\n",
    "                                title=\"SQLite Data Insert Interface\",\n",
    "                                description=\"Insert data into sqlite\",\n",
    "                                allow_flagging=\"never\",\n",
    "    )   \n",
    "#insert_interface.launch()"
   ]
  },
  {
   "cell_type": "code",
   "execution_count": 9,
   "metadata": {},
   "outputs": [],
   "source": [
    "visualize_interface= gr.Interface(fn=visualizza_data,\n",
    "                                inputs=None,\n",
    "                                outputs=gr.DataFrame(visualizza_data()),\n",
    "                                title=\"SQLite Data Insert Interface\",\n",
    "                                description=\"Insert data into sqlite\",\n",
    "                                allow_flagging=\"never\",\n",
    "    )\n",
    "#visualize_interface.launch()"
   ]
  },
  {
   "cell_type": "code",
   "execution_count": 13,
   "metadata": {},
   "outputs": [],
   "source": [
    "app=gr.TabbedInterface(interface_list= [insert_interface,visualize_interface],\n",
    "                       tab_names=[\"Insert\",\"Visualize\"])\n",
    "#app.launch()\n"
   ]
  }
 ],
 "metadata": {
  "kernelspec": {
   "display_name": "Python 3",
   "language": "python",
   "name": "python3"
  },
  "language_info": {
   "codemirror_mode": {
    "name": "ipython",
    "version": 3
   },
   "file_extension": ".py",
   "mimetype": "text/x-python",
   "name": "python",
   "nbconvert_exporter": "python",
   "pygments_lexer": "ipython3",
   "version": "3.10.10"
  }
 },
 "nbformat": 4,
 "nbformat_minor": 2
}
